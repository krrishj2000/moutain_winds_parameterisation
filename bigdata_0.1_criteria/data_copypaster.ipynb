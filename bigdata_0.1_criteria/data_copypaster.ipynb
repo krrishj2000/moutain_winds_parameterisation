{
 "cells": [
  {
   "cell_type": "code",
   "execution_count": 1,
   "metadata": {},
   "outputs": [],
   "source": [
    "import numpy as np\n",
    "import pandas as pd\n"
   ]
  },
  {
   "cell_type": "code",
   "execution_count": 39,
   "metadata": {},
   "outputs": [
    {
     "name": "stdout",
     "output_type": "stream",
     "text": [
      "arolla Already has 240 elements\n",
      "langenferner Already has 240 elements\n",
      "schiaparelli Already has 240 elements\n",
      "Trakarding Already has 240 elements\n",
      "yala Already has 240 elements\n",
      "lirung Already has 240 elements\n",
      "satopanth Already has 240 elements\n",
      "wm2 Already has 240 elements\n",
      "pm3 Already has 240 elements\n",
      "pm2 Already has 240 elements\n",
      "pm1 Already has 240 elements\n",
      "djankuat Already has 240 elements\n",
      "chotashigri Already has 240 elements\n",
      "wm1 Already has 240 elements\n",
      "drangdrung Already has 240 elements\n",
      "pyramid Already has 240 elements\n",
      "pheriche Already has 240 elements\n",
      "bishop Already has 240 elements\n",
      "weisssee Already has 240 elements\n",
      "hef Already has 240 elements\n",
      "Rotmoos Already has 240 elements\n",
      "lukla Already has 240 elements\n",
      "phortse Already has 240 elements\n",
      "namche Already has 240 elements\n",
      "balcony Already has 240 elements\n",
      "camp2 Already has 240 elements\n",
      "pm4 Already has 240 elements\n",
      "southcol Already has 240 elements\n",
      "Denalipass Already has 240 elements\n",
      "kalapathar Already has 240 elements\n"
     ]
    }
   ],
   "source": [
    "names=[     'arolla',\n",
    "       'langenferner',\n",
    "        'schiaparelli',\n",
    "            'Trakarding',\n",
    "                      'yala',\n",
    "                         'lirung',\n",
    "                           'satopanth',\n",
    "                                    'wm2',\n",
    "                                       'pm3',\n",
    "                                        'pm2',\n",
    "                                       'pm1',\n",
    "                                'djankuat',\n",
    "                          'chotashigri',\n",
    "                              'wm1',\n",
    "                    'drangdrung',\n",
    "                  'pyramid',\n",
    "                'pheriche',\n",
    "                   'bishop',\n",
    "                    'weisssee',\n",
    "                           'hef',\n",
    "                           'Rotmoos',\n",
    "                                  'lukla',\n",
    "                                      'phortse',\n",
    "                                             'namche',\n",
    "                                              'balcony',\n",
    "                                            'camp2',\n",
    "                                        'pm4',\n",
    "                              'southcol',\n",
    "                   'Denalipass',\n",
    "       'kalapathar'\n",
    "       ]\n",
    "for file in names:\n",
    "    name=file+'.csv'\n",
    "    \n",
    "    data=pd.read_csv(name)\n",
    "    if len(data)<25:\n",
    "        print(file,\"has only\",len(data),\"elements\")\n",
    "        data2=pd.DataFrame()\n",
    "\n",
    "        for column in data.columns:\n",
    "            data2[column]=data[column].values.tolist()*10\n",
    "        data2['datetime']=np.arange(0,len(data2))\n",
    "        data2.to_csv(name)\n",
    "        print(file,\"has now\",len(data),\"elements\")\n",
    "    else:\n",
    "        print(file,\"Already has\",len(data),\"elements\")"
   ]
  },
  {
   "cell_type": "code",
   "execution_count": 36,
   "metadata": {},
   "outputs": [],
   "source": []
  }
 ],
 "metadata": {
  "kernelspec": {
   "display_name": "base",
   "language": "python",
   "name": "python3"
  },
  "language_info": {
   "codemirror_mode": {
    "name": "ipython",
    "version": 3
   },
   "file_extension": ".py",
   "mimetype": "text/x-python",
   "name": "python",
   "nbconvert_exporter": "python",
   "pygments_lexer": "ipython3",
   "version": "3.9.7"
  }
 },
 "nbformat": 4,
 "nbformat_minor": 2
}
